{
 "cells": [
  {
   "cell_type": "code",
   "execution_count": 1,
   "id": "ddea1ede-3ba6-4d84-992d-53e5d531d4b7",
   "metadata": {},
   "outputs": [
    {
     "name": "stdout",
     "output_type": "stream",
     "text": [
      "                                                     id  member_id  loan_amnt  \\\n",
      "0                                             104046719        NaN    14000.0   \n",
      "1                                             104048967        NaN     5000.0   \n",
      "2                                             104028593        NaN     4600.0   \n",
      "3                                             104046702        NaN    14000.0   \n",
      "4                                             104280113        NaN    15000.0   \n",
      "...                                                 ...        ...        ...   \n",
      "96776                                          94477589        NaN    10000.0   \n",
      "96777                                          94048859        NaN     6325.0   \n",
      "96778                                          94038849        NaN    15625.0   \n",
      "96779  Total amount funded in policy code 1: 1437969475        NaN        NaN   \n",
      "96780   Total amount funded in policy code 2: 520780182        NaN        NaN   \n",
      "\n",
      "       funded_amnt  funded_amnt_inv        term int_rate  installment grade  \\\n",
      "0          14000.0          14000.0   36 months   15.99%       492.13     C   \n",
      "1           5000.0           5000.0   36 months   25.49%       200.10     E   \n",
      "2           4600.0           4600.0   36 months   11.39%       151.45     B   \n",
      "3          14000.0          14000.0   60 months   12.74%       316.69     C   \n",
      "4          15000.0          15000.0   36 months    5.32%       451.73     A   \n",
      "...            ...              ...         ...      ...          ...   ...   \n",
      "96776      10000.0          10000.0   36 months    8.24%       314.48     B   \n",
      "96777       6325.0           6325.0   36 months   15.99%       222.34     C   \n",
      "96778      15625.0          15625.0   60 months   28.69%       493.03     F   \n",
      "96779          NaN              NaN         NaN      NaN          NaN   NaN   \n",
      "96780          NaN              NaN         NaN      NaN          NaN   NaN   \n",
      "\n",
      "      sub_grade  ... hardship_payoff_balance_amount  \\\n",
      "0            C5  ...                            NaN   \n",
      "1            E4  ...                            NaN   \n",
      "2            B3  ...                            NaN   \n",
      "3            C1  ...                            NaN   \n",
      "4            A1  ...                            NaN   \n",
      "...         ...  ...                            ...   \n",
      "96776        B1  ...                            NaN   \n",
      "96777        C5  ...                            NaN   \n",
      "96778        F1  ...                            NaN   \n",
      "96779       NaN  ...                            NaN   \n",
      "96780       NaN  ...                            NaN   \n",
      "\n",
      "      hardship_last_payment_amount disbursement_method  debt_settlement_flag  \\\n",
      "0                              NaN                Cash                     N   \n",
      "1                              NaN                Cash                     N   \n",
      "2                              NaN                Cash                     N   \n",
      "3                              NaN                Cash                     N   \n",
      "4                              NaN                Cash                     N   \n",
      "...                            ...                 ...                   ...   \n",
      "96776                          NaN                Cash                     N   \n",
      "96777                          NaN                Cash                     N   \n",
      "96778                          NaN                Cash                     N   \n",
      "96779                          NaN                 NaN                   NaN   \n",
      "96780                          NaN                 NaN                   NaN   \n",
      "\n",
      "      debt_settlement_flag_date settlement_status settlement_date  \\\n",
      "0                           NaN               NaN             NaN   \n",
      "1                           NaN               NaN             NaN   \n",
      "2                           NaN               NaN             NaN   \n",
      "3                           NaN               NaN             NaN   \n",
      "4                           NaN               NaN             NaN   \n",
      "...                         ...               ...             ...   \n",
      "96776                       NaN               NaN             NaN   \n",
      "96777                       NaN               NaN             NaN   \n",
      "96778                       NaN               NaN             NaN   \n",
      "96779                       NaN               NaN             NaN   \n",
      "96780                       NaN               NaN             NaN   \n",
      "\n",
      "      settlement_amount settlement_percentage  settlement_term  \n",
      "0                   NaN                   NaN              NaN  \n",
      "1                   NaN                   NaN              NaN  \n",
      "2                   NaN                   NaN              NaN  \n",
      "3                   NaN                   NaN              NaN  \n",
      "4                   NaN                   NaN              NaN  \n",
      "...                 ...                   ...              ...  \n",
      "96776               NaN                   NaN              NaN  \n",
      "96777               NaN                   NaN              NaN  \n",
      "96778               NaN                   NaN              NaN  \n",
      "96779               NaN                   NaN              NaN  \n",
      "96780               NaN                   NaN              NaN  \n",
      "\n",
      "[96781 rows x 151 columns]\n"
     ]
    }
   ],
   "source": [
    "import pandas as pd\n",
    "\n",
    "# Read the CSV file using normal slashes\n",
    "file_path = '../data/Loan_test_set.csv'\n",
    "df = pd.read_csv(file_path, sep=',', low_memory=False, skiprows=1)\n",
    "print(df)"
   ]
  },
  {
   "cell_type": "code",
   "execution_count": null,
   "id": "e923deb8-3748-4e71-991b-e52b3c731e7c",
   "metadata": {},
   "outputs": [
    {
     "data": {
      "application/vnd.jupyter.widget-view+json": {
       "model_id": "373bd215f915448ea4b383067647003c",
       "version_major": 2,
       "version_minor": 0
      },
      "text/plain": [
       "                                             |                                             | [  0%]   00:00 ->…"
      ]
     },
     "metadata": {},
     "output_type": "display_data"
    }
   ],
   "source": [
    "# 2. Importar librerías\n",
    "import pandas as pd\n",
    "import sweetviz as sv\n",
    "\n",
    "# 3. Cargar el archivo CSV\n",
    "file_path = '../data/Loan_test_set.csv'\n",
    "df = pd.read_csv(file_path, sep=',', low_memory=False, skiprows=1)\n",
    "\n",
    "# 4. Limpiar la columna 'int_rate' y tratar otros posibles valores\n",
    "df['int_rate'] = df['int_rate'].str.rstrip('%').astype(float)\n",
    "\n",
    "# 5. Generar el análisis con Sweetviz\n",
    "report = sv.analyze(df)\n",
    "\n",
    "# 6. Guardar y abrir el reporte en HTML\n",
    "report.show_html('sweetviz_report.html')"
   ]
  },
  {
   "cell_type": "code",
   "execution_count": null,
   "id": "0c84bd61-a6d6-443a-91c0-1fdcdfe3bb15",
   "metadata": {},
   "outputs": [],
   "source": []
  }
 ],
 "metadata": {
  "kernelspec": {
   "display_name": "Python 3 (ipykernel_update)",
   "language": "python",
   "name": "python_3_ipykernel"
  },
  "language_info": {
   "codemirror_mode": {
    "name": "ipython",
    "version": 3
   },
   "file_extension": ".py",
   "mimetype": "text/x-python",
   "name": "python",
   "nbconvert_exporter": "python",
   "pygments_lexer": "ipython3",
   "version": "3.11.10"
  }
 },
 "nbformat": 4,
 "nbformat_minor": 5
}
